{
 "cells": [
  {
   "cell_type": "markdown",
   "id": "d7f643b6",
   "metadata": {
    "papermill": {
     "duration": 0.005322,
     "end_time": "2024-09-21T11:43:35.557562",
     "exception": false,
     "start_time": "2024-09-21T11:43:35.552240",
     "status": "completed"
    },
    "tags": []
   },
   "source": [
    "# Introduction to AutoML with Sweetviz and H2O AutoML\n",
    "\n",
    "In this project, we applied automated machine learning (AutoML) to predict used car prices. We used two main tools:\n",
    "\n",
    "1. **Sweetviz** for data exploration.\n",
    "2. **H2O AutoML** for building regression models.\n",
    "\n",
    "While these tools can save a lot of time, there are important trade-offs to consider, especially when it comes to understanding the process behind the results.\n",
    "\n",
    "## Sweetviz: Automated Data Exploration\n",
    "\n",
    "Sweetviz is a Python library that quickly generates a visual report of your dataset. It helps you get a snapshot of the data’s structure, including distributions, correlations, and missing values.\n",
    "\n",
    "### Benefits:\n",
    "- It’s very fast and easy to use.\n",
    "- Provides a detailed report with minimal effort.\n",
    "\n",
    "### Downsides:\n",
    "- Limited customization options.\n",
    "- Doesn't offer deep analysis beyond basic data exploration.\n",
    "\n",
    "## H2O AutoML: Automated Model Building\n",
    "\n",
    "H2O AutoML is an open-source tool that automates the process of creating and tuning machine learning models. It tests various models and chooses the best one based on performance metrics.\n",
    "\n",
    "### Benefits:\n",
    "- Saves time by automating the entire modeling process, from data preparation to model selection and tuning.\n",
    "- Can be used by people with limited machine learning experience.\n",
    "\n",
    "### Downsides:\n",
    "- **Black box problem**: AutoML can feel like a black box. It builds models automatically, but you don’t always know how or why certain decisions were made (e.g., which features were most important).\n",
    "- **Less control**: You don’t have full control over the process, which can be frustrating if you want to fine-tune or understand the model in more detail.\n",
    "\n",
    "## Why AutoML Isn’t Always the Best Choice\n",
    "\n",
    "Even though tools like H2O AutoML save time, I don’t recommend using them in every situation for the following reasons:\n",
    "\n",
    "1. **Lack of transparency**: Since AutoML handles everything for you, it’s hard to understand how the model was built or what decisions were made during the process.\n",
    "   \n",
    "2. **Limited flexibility**: AutoML may not give you the customization you need for complex or highly specific tasks.\n",
    "\n",
    "3. **Over-reliance on automation**: Relying too much on these tools can prevent you from learning or applying the important concepts behind machine learning. In some cases, a deeper understanding is needed, especially when explaining or adapting the model for real-world applications.\n",
    "\n",
    "## Conclusion\n",
    "\n",
    "Sweetviz and H2O AutoML are great tools for quickly exploring data and building machine learning models. However, because they work like a \"black box,\" you should use them with caution in cases where it’s important to understand or explain how a model works. AutoML is a good starting point but shouldn’t replace manual model-building in situations that require more control and transparency.\n"
   ]
  },
  {
   "cell_type": "code",
   "execution_count": 1,
   "id": "763d023d",
   "metadata": {
    "execution": {
     "iopub.execute_input": "2024-09-21T11:43:35.569501Z",
     "iopub.status.busy": "2024-09-21T11:43:35.568559Z",
     "iopub.status.idle": "2024-09-21T11:43:50.458190Z",
     "shell.execute_reply": "2024-09-21T11:43:50.456850Z"
    },
    "papermill": {
     "duration": 14.898368,
     "end_time": "2024-09-21T11:43:50.461007",
     "exception": false,
     "start_time": "2024-09-21T11:43:35.562639",
     "status": "completed"
    },
    "tags": []
   },
   "outputs": [
    {
     "name": "stdout",
     "output_type": "stream",
     "text": [
      "Collecting sweetviz\r\n",
      "  Downloading sweetviz-2.3.1-py3-none-any.whl.metadata (24 kB)\r\n",
      "Requirement already satisfied: pandas!=1.0.0,!=1.0.1,!=1.0.2,>=0.25.3 in /opt/conda/lib/python3.10/site-packages (from sweetviz) (2.2.2)\r\n",
      "Requirement already satisfied: numpy>=1.16.0 in /opt/conda/lib/python3.10/site-packages (from sweetviz) (1.26.4)\r\n",
      "Requirement already satisfied: matplotlib>=3.1.3 in /opt/conda/lib/python3.10/site-packages (from sweetviz) (3.7.5)\r\n",
      "Requirement already satisfied: tqdm>=4.43.0 in /opt/conda/lib/python3.10/site-packages (from sweetviz) (4.66.4)\r\n",
      "Requirement already satisfied: scipy>=1.3.2 in /opt/conda/lib/python3.10/site-packages (from sweetviz) (1.14.0)\r\n",
      "Requirement already satisfied: jinja2>=2.11.1 in /opt/conda/lib/python3.10/site-packages (from sweetviz) (3.1.4)\r\n",
      "Requirement already satisfied: importlib-resources>=1.2.0 in /opt/conda/lib/python3.10/site-packages (from sweetviz) (6.4.0)\r\n",
      "Requirement already satisfied: MarkupSafe>=2.0 in /opt/conda/lib/python3.10/site-packages (from jinja2>=2.11.1->sweetviz) (2.1.5)\r\n",
      "Requirement already satisfied: contourpy>=1.0.1 in /opt/conda/lib/python3.10/site-packages (from matplotlib>=3.1.3->sweetviz) (1.2.1)\r\n",
      "Requirement already satisfied: cycler>=0.10 in /opt/conda/lib/python3.10/site-packages (from matplotlib>=3.1.3->sweetviz) (0.12.1)\r\n",
      "Requirement already satisfied: fonttools>=4.22.0 in /opt/conda/lib/python3.10/site-packages (from matplotlib>=3.1.3->sweetviz) (4.53.0)\r\n",
      "Requirement already satisfied: kiwisolver>=1.0.1 in /opt/conda/lib/python3.10/site-packages (from matplotlib>=3.1.3->sweetviz) (1.4.5)\r\n",
      "Requirement already satisfied: packaging>=20.0 in /opt/conda/lib/python3.10/site-packages (from matplotlib>=3.1.3->sweetviz) (21.3)\r\n",
      "Requirement already satisfied: pillow>=6.2.0 in /opt/conda/lib/python3.10/site-packages (from matplotlib>=3.1.3->sweetviz) (9.5.0)\r\n",
      "Requirement already satisfied: pyparsing>=2.3.1 in /opt/conda/lib/python3.10/site-packages (from matplotlib>=3.1.3->sweetviz) (3.1.2)\r\n",
      "Requirement already satisfied: python-dateutil>=2.7 in /opt/conda/lib/python3.10/site-packages (from matplotlib>=3.1.3->sweetviz) (2.9.0.post0)\r\n",
      "Requirement already satisfied: pytz>=2020.1 in /opt/conda/lib/python3.10/site-packages (from pandas!=1.0.0,!=1.0.1,!=1.0.2,>=0.25.3->sweetviz) (2024.1)\r\n",
      "Requirement already satisfied: tzdata>=2022.7 in /opt/conda/lib/python3.10/site-packages (from pandas!=1.0.0,!=1.0.1,!=1.0.2,>=0.25.3->sweetviz) (2024.1)\r\n",
      "Requirement already satisfied: six>=1.5 in /opt/conda/lib/python3.10/site-packages (from python-dateutil>=2.7->matplotlib>=3.1.3->sweetviz) (1.16.0)\r\n",
      "Downloading sweetviz-2.3.1-py3-none-any.whl (15.1 MB)\r\n",
      "\u001b[2K   \u001b[90m━━━━━━━━━━━━━━━━━━━━━━━━━━━━━━━━━━━━━━━━\u001b[0m \u001b[32m15.1/15.1 MB\u001b[0m \u001b[31m68.5 MB/s\u001b[0m eta \u001b[36m0:00:00\u001b[0m\r\n",
      "\u001b[?25hInstalling collected packages: sweetviz\r\n",
      "Successfully installed sweetviz-2.3.1\r\n"
     ]
    }
   ],
   "source": [
    "!pip install sweetviz"
   ]
  },
  {
   "cell_type": "code",
   "execution_count": 2,
   "id": "00048ef2",
   "metadata": {
    "execution": {
     "iopub.execute_input": "2024-09-21T11:43:50.474518Z",
     "iopub.status.busy": "2024-09-21T11:43:50.473937Z",
     "iopub.status.idle": "2024-09-21T11:44:03.102178Z",
     "shell.execute_reply": "2024-09-21T11:44:03.100797Z"
    },
    "papermill": {
     "duration": 12.63834,
     "end_time": "2024-09-21T11:44:03.104979",
     "exception": false,
     "start_time": "2024-09-21T11:43:50.466639",
     "status": "completed"
    },
    "tags": []
   },
   "outputs": [
    {
     "name": "stdout",
     "output_type": "stream",
     "text": [
      "Requirement already satisfied: h2o in /opt/conda/lib/python3.10/site-packages (3.46.0.4)\r\n",
      "Requirement already satisfied: requests in /opt/conda/lib/python3.10/site-packages (from h2o) (2.32.3)\r\n",
      "Requirement already satisfied: tabulate in /opt/conda/lib/python3.10/site-packages (from h2o) (0.9.0)\r\n",
      "Requirement already satisfied: charset-normalizer<4,>=2 in /opt/conda/lib/python3.10/site-packages (from requests->h2o) (3.3.2)\r\n",
      "Requirement already satisfied: idna<4,>=2.5 in /opt/conda/lib/python3.10/site-packages (from requests->h2o) (3.7)\r\n",
      "Requirement already satisfied: urllib3<3,>=1.21.1 in /opt/conda/lib/python3.10/site-packages (from requests->h2o) (1.26.18)\r\n",
      "Requirement already satisfied: certifi>=2017.4.17 in /opt/conda/lib/python3.10/site-packages (from requests->h2o) (2024.7.4)\r\n"
     ]
    }
   ],
   "source": [
    "!pip install h2o\n"
   ]
  },
  {
   "cell_type": "code",
   "execution_count": 3,
   "id": "ea43f259",
   "metadata": {
    "execution": {
     "iopub.execute_input": "2024-09-21T11:44:03.118507Z",
     "iopub.status.busy": "2024-09-21T11:44:03.117772Z",
     "iopub.status.idle": "2024-09-21T11:44:03.537039Z",
     "shell.execute_reply": "2024-09-21T11:44:03.535936Z"
    },
    "papermill": {
     "duration": 0.429054,
     "end_time": "2024-09-21T11:44:03.539813",
     "exception": false,
     "start_time": "2024-09-21T11:44:03.110759",
     "status": "completed"
    },
    "tags": []
   },
   "outputs": [],
   "source": [
    "# Import\n",
    "import numpy as np\n",
    "import pandas as pd\n",
    "from datetime import datetime\n",
    "\n",
    "import warnings\n",
    "warnings.simplefilter(\"ignore\")"
   ]
  },
  {
   "cell_type": "code",
   "execution_count": 4,
   "id": "f8043ca1",
   "metadata": {
    "execution": {
     "iopub.execute_input": "2024-09-21T11:44:03.553417Z",
     "iopub.status.busy": "2024-09-21T11:44:03.552300Z",
     "iopub.status.idle": "2024-09-21T11:44:04.963937Z",
     "shell.execute_reply": "2024-09-21T11:44:04.962956Z"
    },
    "papermill": {
     "duration": 1.421009,
     "end_time": "2024-09-21T11:44:04.966444",
     "exception": false,
     "start_time": "2024-09-21T11:44:03.545435",
     "status": "completed"
    },
    "tags": []
   },
   "outputs": [],
   "source": [
    "# Load CSV files (train and test)\n",
    "df_train = pd.read_csv('train.csv')\n",
    "df_test = pd.read_csv('test.csv')\n",
    "df_train = df_train.drop(columns=['id'])\n",
    "df=df_train.copy()"
   ]
  },
  {
   "cell_type": "code",
   "execution_count": 5,
   "id": "a3cda7a1",
   "metadata": {
    "execution": {
     "iopub.execute_input": "2024-09-21T11:44:04.979770Z",
     "iopub.status.busy": "2024-09-21T11:44:04.978809Z",
     "iopub.status.idle": "2024-09-21T11:44:04.999970Z",
     "shell.execute_reply": "2024-09-21T11:44:04.998938Z"
    },
    "papermill": {
     "duration": 0.030507,
     "end_time": "2024-09-21T11:44:05.002448",
     "exception": false,
     "start_time": "2024-09-21T11:44:04.971941",
     "status": "completed"
    },
    "tags": []
   },
   "outputs": [
    {
     "name": "stdout",
     "output_type": "stream",
     "text": [
      "train data : (188533, 12)\n",
      "test data : (125690, 12)\n"
     ]
    },
    {
     "data": {
      "text/html": [
       "<div>\n",
       "<style scoped>\n",
       "    .dataframe tbody tr th:only-of-type {\n",
       "        vertical-align: middle;\n",
       "    }\n",
       "\n",
       "    .dataframe tbody tr th {\n",
       "        vertical-align: top;\n",
       "    }\n",
       "\n",
       "    .dataframe thead th {\n",
       "        text-align: right;\n",
       "    }\n",
       "</style>\n",
       "<table border=\"1\" class=\"dataframe\">\n",
       "  <thead>\n",
       "    <tr style=\"text-align: right;\">\n",
       "      <th></th>\n",
       "      <th>brand</th>\n",
       "      <th>model</th>\n",
       "      <th>model_year</th>\n",
       "      <th>milage</th>\n",
       "      <th>fuel_type</th>\n",
       "      <th>engine</th>\n",
       "      <th>transmission</th>\n",
       "      <th>ext_col</th>\n",
       "      <th>int_col</th>\n",
       "      <th>accident</th>\n",
       "      <th>clean_title</th>\n",
       "      <th>price</th>\n",
       "    </tr>\n",
       "  </thead>\n",
       "  <tbody>\n",
       "    <tr>\n",
       "      <th>0</th>\n",
       "      <td>MINI</td>\n",
       "      <td>Cooper S Base</td>\n",
       "      <td>2007</td>\n",
       "      <td>213000</td>\n",
       "      <td>Gasoline</td>\n",
       "      <td>172.0HP 1.6L 4 Cylinder Engine Gasoline Fuel</td>\n",
       "      <td>A/T</td>\n",
       "      <td>Yellow</td>\n",
       "      <td>Gray</td>\n",
       "      <td>None reported</td>\n",
       "      <td>Yes</td>\n",
       "      <td>4200</td>\n",
       "    </tr>\n",
       "    <tr>\n",
       "      <th>1</th>\n",
       "      <td>Lincoln</td>\n",
       "      <td>LS V8</td>\n",
       "      <td>2002</td>\n",
       "      <td>143250</td>\n",
       "      <td>Gasoline</td>\n",
       "      <td>252.0HP 3.9L 8 Cylinder Engine Gasoline Fuel</td>\n",
       "      <td>A/T</td>\n",
       "      <td>Silver</td>\n",
       "      <td>Beige</td>\n",
       "      <td>At least 1 accident or damage reported</td>\n",
       "      <td>Yes</td>\n",
       "      <td>4999</td>\n",
       "    </tr>\n",
       "    <tr>\n",
       "      <th>2</th>\n",
       "      <td>Chevrolet</td>\n",
       "      <td>Silverado 2500 LT</td>\n",
       "      <td>2002</td>\n",
       "      <td>136731</td>\n",
       "      <td>E85 Flex Fuel</td>\n",
       "      <td>320.0HP 5.3L 8 Cylinder Engine Flex Fuel Capab...</td>\n",
       "      <td>A/T</td>\n",
       "      <td>Blue</td>\n",
       "      <td>Gray</td>\n",
       "      <td>None reported</td>\n",
       "      <td>Yes</td>\n",
       "      <td>13900</td>\n",
       "    </tr>\n",
       "    <tr>\n",
       "      <th>3</th>\n",
       "      <td>Genesis</td>\n",
       "      <td>G90 5.0 Ultimate</td>\n",
       "      <td>2017</td>\n",
       "      <td>19500</td>\n",
       "      <td>Gasoline</td>\n",
       "      <td>420.0HP 5.0L 8 Cylinder Engine Gasoline Fuel</td>\n",
       "      <td>Transmission w/Dual Shift Mode</td>\n",
       "      <td>Black</td>\n",
       "      <td>Black</td>\n",
       "      <td>None reported</td>\n",
       "      <td>Yes</td>\n",
       "      <td>45000</td>\n",
       "    </tr>\n",
       "    <tr>\n",
       "      <th>4</th>\n",
       "      <td>Mercedes-Benz</td>\n",
       "      <td>Metris Base</td>\n",
       "      <td>2021</td>\n",
       "      <td>7388</td>\n",
       "      <td>Gasoline</td>\n",
       "      <td>208.0HP 2.0L 4 Cylinder Engine Gasoline Fuel</td>\n",
       "      <td>7-Speed A/T</td>\n",
       "      <td>Black</td>\n",
       "      <td>Beige</td>\n",
       "      <td>None reported</td>\n",
       "      <td>Yes</td>\n",
       "      <td>97500</td>\n",
       "    </tr>\n",
       "  </tbody>\n",
       "</table>\n",
       "</div>"
      ],
      "text/plain": [
       "           brand              model  model_year  milage      fuel_type  \\\n",
       "0           MINI      Cooper S Base        2007  213000       Gasoline   \n",
       "1        Lincoln              LS V8        2002  143250       Gasoline   \n",
       "2      Chevrolet  Silverado 2500 LT        2002  136731  E85 Flex Fuel   \n",
       "3        Genesis   G90 5.0 Ultimate        2017   19500       Gasoline   \n",
       "4  Mercedes-Benz        Metris Base        2021    7388       Gasoline   \n",
       "\n",
       "                                              engine  \\\n",
       "0       172.0HP 1.6L 4 Cylinder Engine Gasoline Fuel   \n",
       "1       252.0HP 3.9L 8 Cylinder Engine Gasoline Fuel   \n",
       "2  320.0HP 5.3L 8 Cylinder Engine Flex Fuel Capab...   \n",
       "3       420.0HP 5.0L 8 Cylinder Engine Gasoline Fuel   \n",
       "4       208.0HP 2.0L 4 Cylinder Engine Gasoline Fuel   \n",
       "\n",
       "                     transmission ext_col int_col  \\\n",
       "0                             A/T  Yellow    Gray   \n",
       "1                             A/T  Silver   Beige   \n",
       "2                             A/T    Blue    Gray   \n",
       "3  Transmission w/Dual Shift Mode   Black   Black   \n",
       "4                     7-Speed A/T   Black   Beige   \n",
       "\n",
       "                                 accident clean_title  price  \n",
       "0                           None reported         Yes   4200  \n",
       "1  At least 1 accident or damage reported         Yes   4999  \n",
       "2                           None reported         Yes  13900  \n",
       "3                           None reported         Yes  45000  \n",
       "4                           None reported         Yes  97500  "
      ]
     },
     "execution_count": 5,
     "metadata": {},
     "output_type": "execute_result"
    }
   ],
   "source": [
    "print(\"train data : {}\".format(df.shape))\n",
    "print(\"test data : {}\".format(df_test.shape))\n",
    "df.head()"
   ]
  },
  {
   "cell_type": "code",
   "execution_count": 6,
   "id": "08a01c35",
   "metadata": {
    "execution": {
     "iopub.execute_input": "2024-09-21T11:44:05.015589Z",
     "iopub.status.busy": "2024-09-21T11:44:05.015190Z",
     "iopub.status.idle": "2024-09-21T11:44:05.023726Z",
     "shell.execute_reply": "2024-09-21T11:44:05.022582Z"
    },
    "papermill": {
     "duration": 0.01791,
     "end_time": "2024-09-21T11:44:05.026045",
     "exception": false,
     "start_time": "2024-09-21T11:44:05.008135",
     "status": "completed"
    },
    "tags": []
   },
   "outputs": [
    {
     "data": {
      "text/plain": [
       "brand           object\n",
       "model           object\n",
       "model_year       int64\n",
       "milage           int64\n",
       "fuel_type       object\n",
       "engine          object\n",
       "transmission    object\n",
       "ext_col         object\n",
       "int_col         object\n",
       "accident        object\n",
       "clean_title     object\n",
       "price            int64\n",
       "dtype: object"
      ]
     },
     "execution_count": 6,
     "metadata": {},
     "output_type": "execute_result"
    }
   ],
   "source": [
    "df.dtypes"
   ]
  },
  {
   "cell_type": "code",
   "execution_count": 7,
   "id": "eecef3e5",
   "metadata": {
    "execution": {
     "iopub.execute_input": "2024-09-21T11:44:05.039664Z",
     "iopub.status.busy": "2024-09-21T11:44:05.039269Z",
     "iopub.status.idle": "2024-09-21T11:44:05.239787Z",
     "shell.execute_reply": "2024-09-21T11:44:05.238635Z"
    },
    "papermill": {
     "duration": 0.210198,
     "end_time": "2024-09-21T11:44:05.242291",
     "exception": false,
     "start_time": "2024-09-21T11:44:05.032093",
     "status": "completed"
    },
    "tags": []
   },
   "outputs": [
    {
     "data": {
      "text/plain": [
       "0"
      ]
     },
     "execution_count": 7,
     "metadata": {},
     "output_type": "execute_result"
    }
   ],
   "source": [
    "df.duplicated().sum()"
   ]
  },
  {
   "cell_type": "code",
   "execution_count": 8,
   "id": "a6b60280",
   "metadata": {
    "execution": {
     "iopub.execute_input": "2024-09-21T11:44:05.256751Z",
     "iopub.status.busy": "2024-09-21T11:44:05.255954Z",
     "iopub.status.idle": "2024-09-21T11:44:05.348746Z",
     "shell.execute_reply": "2024-09-21T11:44:05.346199Z"
    },
    "papermill": {
     "duration": 0.104218,
     "end_time": "2024-09-21T11:44:05.352680",
     "exception": false,
     "start_time": "2024-09-21T11:44:05.248462",
     "status": "completed"
    },
    "tags": []
   },
   "outputs": [
    {
     "data": {
      "text/plain": [
       "brand            0.000000\n",
       "model            0.000000\n",
       "model_year       0.000000\n",
       "milage           0.000000\n",
       "fuel_type        2.696080\n",
       "engine           0.000000\n",
       "transmission     0.000000\n",
       "ext_col          0.000000\n",
       "int_col          0.000000\n",
       "accident         1.300568\n",
       "clean_title     11.360876\n",
       "price            0.000000\n",
       "dtype: float64"
      ]
     },
     "execution_count": 8,
     "metadata": {},
     "output_type": "execute_result"
    }
   ],
   "source": [
    "#% of null by colums abs\n",
    "(df.isnull().sum())/df.shape[0]*100"
   ]
  },
  {
   "cell_type": "markdown",
   "id": "4d92febc",
   "metadata": {
    "papermill": {
     "duration": 0.007012,
     "end_time": "2024-09-21T11:44:05.368501",
     "exception": false,
     "start_time": "2024-09-21T11:44:05.361489",
     "status": "completed"
    },
    "tags": []
   },
   "source": [
    "**any manipilation done to train set must be done to test set**"
   ]
  },
  {
   "cell_type": "code",
   "execution_count": 9,
   "id": "4f2fca5e",
   "metadata": {
    "execution": {
     "iopub.execute_input": "2024-09-21T11:44:05.388021Z",
     "iopub.status.busy": "2024-09-21T11:44:05.387158Z",
     "iopub.status.idle": "2024-09-21T11:44:44.018873Z",
     "shell.execute_reply": "2024-09-21T11:44:44.017776Z"
    },
    "papermill": {
     "duration": 38.644636,
     "end_time": "2024-09-21T11:44:44.021590",
     "exception": false,
     "start_time": "2024-09-21T11:44:05.376954",
     "status": "completed"
    },
    "tags": []
   },
   "outputs": [],
   "source": [
    "df['clean_title'].fillna('Unknown', inplace=True)\n",
    "df_test['clean_title'].fillna('Unknown', inplace=True)\n",
    "# fill null values in fuel_type and accident\n",
    "df['fuel_type'] = df.groupby(['model', 'model_year'])['fuel_type'].transform(lambda x: x.fillna(x.mode()[0] if not x.mode().empty else 'Unknown'))\n",
    "df_test['fuel_type'] = df_test.groupby(['model', 'model_year'])['fuel_type'].transform(lambda x: x.fillna(x.mode()[0] if not x.mode().empty else 'Unknown'))\n",
    "df['accident'] = df.groupby(['model', 'model_year'])['accident'].transform(lambda x: x.fillna(x.mode()[0] if not x.mode().empty else 'Unknown'))\n",
    "df_test['accident'] = df_test.groupby(['model', 'model_year'])['accident'].transform(lambda x: x.fillna(x.mode()[0] if not x.mode().empty else 'Unknown'))"
   ]
  },
  {
   "cell_type": "markdown",
   "id": "0eaec3e6",
   "metadata": {
    "papermill": {
     "duration": 0.005652,
     "end_time": "2024-09-21T11:44:44.033408",
     "exception": false,
     "start_time": "2024-09-21T11:44:44.027756",
     "status": "completed"
    },
    "tags": []
   },
   "source": [
    "# EDA "
   ]
  },
  {
   "cell_type": "code",
   "execution_count": 10,
   "id": "433ee82f",
   "metadata": {
    "execution": {
     "iopub.execute_input": "2024-09-21T11:44:44.047075Z",
     "iopub.status.busy": "2024-09-21T11:44:44.046652Z",
     "iopub.status.idle": "2024-09-21T11:44:57.484091Z",
     "shell.execute_reply": "2024-09-21T11:44:57.482842Z"
    },
    "papermill": {
     "duration": 13.447005,
     "end_time": "2024-09-21T11:44:57.486425",
     "exception": false,
     "start_time": "2024-09-21T11:44:44.039420",
     "status": "completed"
    },
    "tags": []
   },
   "outputs": [
    {
     "data": {
      "application/vnd.jupyter.widget-view+json": {
       "model_id": "12b6806b73564e6d8940d2774d487836",
       "version_major": 2,
       "version_minor": 0
      },
      "text/plain": [
       "                                             |          | [  0%]   00:00 -> (? left)"
      ]
     },
     "metadata": {},
     "output_type": "display_data"
    },
    {
     "name": "stdout",
     "output_type": "stream",
     "text": [
      "Report SWEETVIZ_REPORT.html was generated! NOTEBOOK/COLAB USERS: the web browser MAY not pop up, regardless, the report IS saved in your notebook/colab files.\n"
     ]
    }
   ],
   "source": [
    "import sweetviz as sv\n",
    "report = sv.analyze(df)\n",
    "report.show_html()  # generate html report\n"
   ]
  },
  {
   "cell_type": "code",
   "execution_count": 11,
   "id": "8bc4945c",
   "metadata": {
    "execution": {
     "iopub.execute_input": "2024-09-21T11:44:57.501687Z",
     "iopub.status.busy": "2024-09-21T11:44:57.500848Z",
     "iopub.status.idle": "2024-09-21T11:44:57.508394Z",
     "shell.execute_reply": "2024-09-21T11:44:57.507451Z"
    },
    "papermill": {
     "duration": 0.018162,
     "end_time": "2024-09-21T11:44:57.510921",
     "exception": false,
     "start_time": "2024-09-21T11:44:57.492759",
     "status": "completed"
    },
    "tags": []
   },
   "outputs": [
    {
     "data": {
      "text/html": [
       "\n",
       "        <iframe\n",
       "            width=\"1000\"\n",
       "            height=\"600\"\n",
       "            src=\"SWEETVIZ_REPORT.html\"\n",
       "            frameborder=\"0\"\n",
       "            allowfullscreen\n",
       "            \n",
       "        ></iframe>\n",
       "        "
      ],
      "text/plain": [
       "<IPython.lib.display.IFrame at 0x78f3ed8e1ae0>"
      ]
     },
     "execution_count": 11,
     "metadata": {},
     "output_type": "execute_result"
    }
   ],
   "source": [
    "from IPython.display import IFrame\n",
    "IFrame(src='SWEETVIZ_REPORT.html', width=1000, height=600)"
   ]
  },
  {
   "cell_type": "markdown",
   "id": "415bb2db",
   "metadata": {
    "papermill": {
     "duration": 0.006407,
     "end_time": "2024-09-21T11:44:57.523911",
     "exception": false,
     "start_time": "2024-09-21T11:44:57.517504",
     "status": "completed"
    },
    "tags": []
   },
   "source": [
    "# AutoML"
   ]
  },
  {
   "cell_type": "code",
   "execution_count": 12,
   "id": "eb3f91bd",
   "metadata": {
    "execution": {
     "iopub.execute_input": "2024-09-21T11:44:57.538672Z",
     "iopub.status.busy": "2024-09-21T11:44:57.538290Z",
     "iopub.status.idle": "2024-09-21T11:55:19.399002Z",
     "shell.execute_reply": "2024-09-21T11:55:19.397668Z"
    },
    "papermill": {
     "duration": 621.871243,
     "end_time": "2024-09-21T11:55:19.401606",
     "exception": false,
     "start_time": "2024-09-21T11:44:57.530363",
     "status": "completed"
    },
    "tags": []
   },
   "outputs": [
    {
     "name": "stdout",
     "output_type": "stream",
     "text": [
      "Checking whether there is an H2O instance running at http://localhost:54321..... not found.\n",
      "Attempting to start a local H2O server...\n",
      "  Java Version: openjdk version \"11.0.24\" 2024-07-16; OpenJDK Runtime Environment (build 11.0.24+8-post-Ubuntu-1ubuntu320.04); OpenJDK 64-Bit Server VM (build 11.0.24+8-post-Ubuntu-1ubuntu320.04, mixed mode, sharing)\n",
      "  Starting server from /opt/conda/lib/python3.10/site-packages/h2o/backend/bin/h2o.jar\n",
      "  Ice root: /tmp/tmpreeaiebs\n",
      "  JVM stdout: /tmp/tmpreeaiebs/h2o_unknownUser_started_from_python.out\n",
      "  JVM stderr: /tmp/tmpreeaiebs/h2o_unknownUser_started_from_python.err\n",
      "  Server is running at http://127.0.0.1:54321\n",
      "Connecting to H2O server at http://127.0.0.1:54321 ... successful.\n"
     ]
    },
    {
     "data": {
      "text/html": [
       "\n",
       "<style>\n",
       "\n",
       "#h2o-table-1.h2o-container {\n",
       "  overflow-x: auto;\n",
       "}\n",
       "#h2o-table-1 .h2o-table {\n",
       "  /* width: 100%; */\n",
       "  margin-top: 1em;\n",
       "  margin-bottom: 1em;\n",
       "}\n",
       "#h2o-table-1 .h2o-table caption {\n",
       "  white-space: nowrap;\n",
       "  caption-side: top;\n",
       "  text-align: left;\n",
       "  /* margin-left: 1em; */\n",
       "  margin: 0;\n",
       "  font-size: larger;\n",
       "}\n",
       "#h2o-table-1 .h2o-table thead {\n",
       "  white-space: nowrap; \n",
       "  position: sticky;\n",
       "  top: 0;\n",
       "  box-shadow: 0 -1px inset;\n",
       "}\n",
       "#h2o-table-1 .h2o-table tbody {\n",
       "  overflow: auto;\n",
       "}\n",
       "#h2o-table-1 .h2o-table th,\n",
       "#h2o-table-1 .h2o-table td {\n",
       "  text-align: right;\n",
       "  /* border: 1px solid; */\n",
       "}\n",
       "#h2o-table-1 .h2o-table tr:nth-child(even) {\n",
       "  /* background: #F5F5F5 */\n",
       "}\n",
       "\n",
       "</style>      \n",
       "<div id=\"h2o-table-1\" class=\"h2o-container\">\n",
       "  <table class=\"h2o-table\">\n",
       "    <caption></caption>\n",
       "    <thead></thead>\n",
       "    <tbody><tr><td>H2O_cluster_uptime:</td>\n",
       "<td>03 secs</td></tr>\n",
       "<tr><td>H2O_cluster_timezone:</td>\n",
       "<td>Etc/UTC</td></tr>\n",
       "<tr><td>H2O_data_parsing_timezone:</td>\n",
       "<td>UTC</td></tr>\n",
       "<tr><td>H2O_cluster_version:</td>\n",
       "<td>3.46.0.4</td></tr>\n",
       "<tr><td>H2O_cluster_version_age:</td>\n",
       "<td>2 months and 11 days</td></tr>\n",
       "<tr><td>H2O_cluster_name:</td>\n",
       "<td>H2O_from_python_unknownUser_y92kyz</td></tr>\n",
       "<tr><td>H2O_cluster_total_nodes:</td>\n",
       "<td>1</td></tr>\n",
       "<tr><td>H2O_cluster_free_memory:</td>\n",
       "<td>7.500 Gb</td></tr>\n",
       "<tr><td>H2O_cluster_total_cores:</td>\n",
       "<td>4</td></tr>\n",
       "<tr><td>H2O_cluster_allowed_cores:</td>\n",
       "<td>4</td></tr>\n",
       "<tr><td>H2O_cluster_status:</td>\n",
       "<td>locked, healthy</td></tr>\n",
       "<tr><td>H2O_connection_url:</td>\n",
       "<td>http://127.0.0.1:54321</td></tr>\n",
       "<tr><td>H2O_connection_proxy:</td>\n",
       "<td>{\"http\": null, \"https\": null}</td></tr>\n",
       "<tr><td>H2O_internal_security:</td>\n",
       "<td>False</td></tr>\n",
       "<tr><td>Python_version:</td>\n",
       "<td>3.10.14 final</td></tr></tbody>\n",
       "  </table>\n",
       "</div>\n"
      ],
      "text/plain": [
       "--------------------------  ----------------------------------\n",
       "H2O_cluster_uptime:         03 secs\n",
       "H2O_cluster_timezone:       Etc/UTC\n",
       "H2O_data_parsing_timezone:  UTC\n",
       "H2O_cluster_version:        3.46.0.4\n",
       "H2O_cluster_version_age:    2 months and 11 days\n",
       "H2O_cluster_name:           H2O_from_python_unknownUser_y92kyz\n",
       "H2O_cluster_total_nodes:    1\n",
       "H2O_cluster_free_memory:    7.500 Gb\n",
       "H2O_cluster_total_cores:    4\n",
       "H2O_cluster_allowed_cores:  4\n",
       "H2O_cluster_status:         locked, healthy\n",
       "H2O_connection_url:         http://127.0.0.1:54321\n",
       "H2O_connection_proxy:       {\"http\": null, \"https\": null}\n",
       "H2O_internal_security:      False\n",
       "Python_version:             3.10.14 final\n",
       "--------------------------  ----------------------------------"
      ]
     },
     "metadata": {},
     "output_type": "display_data"
    },
    {
     "name": "stdout",
     "output_type": "stream",
     "text": [
      "Parse progress: |████████████████████████████████████████████████████████████████| (done) 100%\n",
      "Parse progress: |████████████████████████████████████████████████████████████████| (done) 100%\n",
      "AutoML progress: |███████\n",
      "11:46:17.294: _train param, Dropping bad and constant columns: [clean_title]\n",
      "\n",
      "█████████████████████████████\n",
      "11:50:58.885: XRT_1_AutoML_1_20240921_114517 [DRF XRT (Extremely Randomized Trees)] failed: java.lang.AssertionError\n",
      "\n",
      "██\n",
      "11:51:16.811: _train param, Dropping bad and constant columns: [clean_title]\n",
      "\n",
      "█████████████████████████| (done) 100%\n",
      "model_id                                                    rmse          mse      mae       rmsle    mean_residual_deviance\n",
      "StackedEnsemble_BestOfFamily_3_AutoML_1_20240921_114517  70606.6  4.9853e+09   19097.1  nan                      4.9853e+09\n",
      "StackedEnsemble_AllModels_2_AutoML_1_20240921_114517     70611.6  4.98599e+09  19100.2  nan                      4.98599e+09\n",
      "DeepLearning_1_AutoML_1_20240921_114517                  70865    5.02185e+09  18527.1  nan                      5.02185e+09\n",
      "StackedEnsemble_AllModels_1_AutoML_1_20240921_114517     70954.5  5.03453e+09  19428.9    0.561091               5.03453e+09\n",
      "StackedEnsemble_BestOfFamily_1_AutoML_1_20240921_114517  70984.9  5.03886e+09  19538.2  nan                      5.03886e+09\n",
      "StackedEnsemble_BestOfFamily_2_AutoML_1_20240921_114517  70988.2  5.03933e+09  19537    nan                      5.03933e+09\n",
      "GBM_1_AutoML_1_20240921_114517                           71057.7  5.0492e+09   19539.7  nan                      5.0492e+09\n",
      "XGBoost_grid_1_AutoML_1_20240921_114517_model_1          71253.3  5.07704e+09  20027.5  nan                      5.07704e+09\n",
      "GBM_2_AutoML_1_20240921_114517                           71468.7  5.10777e+09  19527.3  nan                      5.10777e+09\n",
      "XGBoost_grid_1_AutoML_1_20240921_114517_model_2          71490.8  5.11093e+09  20199.3  nan                      5.11093e+09\n",
      "[21 rows x 6 columns]\n",
      "\n"
     ]
    }
   ],
   "source": [
    "import h2o\n",
    "from h2o.automl import H2OAutoML\n",
    "\n",
    "# Initialize H2O\n",
    "h2o.init()\n",
    "\n",
    "\n",
    "# Convert to H2O Frame\n",
    "h2o_df = h2o.import_file('/kaggle/input/playground-series-s4e9/train.csv')\n",
    "h2o_test= h2o.import_file('/kaggle/input/playground-series-s4e9/test.csv')\n",
    "# train test split \n",
    "train, test = h2o_df.split_frame(ratios=[0.8], seed=1234)\n",
    "\n",
    "# choosing target and features \n",
    "x = train.columns[:-1]  \n",
    "y = train.columns[-1]  \n",
    "\n",
    "# Initialising AutoML and choosing RMSE for metric\n",
    "aml = H2OAutoML(max_runtime_secs=600, sort_metric=\"RMSE\")\n",
    "\n",
    "# training \n",
    "aml.train(x=x, y=y, training_frame=train)\n",
    "\n",
    "# print the leaderboard of best model sorted by RMSE\n",
    "lb = aml.leaderboard\n",
    "print(lb)"
   ]
  },
  {
   "cell_type": "markdown",
   "id": "9ad38d68",
   "metadata": {
    "papermill": {
     "duration": 0.016992,
     "end_time": "2024-09-21T11:55:19.436498",
     "exception": false,
     "start_time": "2024-09-21T11:55:19.419506",
     "status": "completed"
    },
    "tags": []
   },
   "source": [
    "### Explanation of H2O AutoML Results\n",
    "\n",
    "#### 1. **Starting the H2O Server**\n",
    "The H2O AutoML framework requires a local Java-based server to function. When the process begins, H2O checks if there is an instance running on `http://localhost:54321`. If not, it attempts to start a local H2O server. \n",
    "\n",
    "- **\"Attempting to start a local H2O server\"**: H2O automatically starts the server.\n",
    "- **\"Server is running at http://127.0.0.1:54321\"**: The server is successfully running and connected.\n",
    "\n",
    "#### 2. **H2O Cluster Information**\n",
    "After starting, H2O provides the configuration details for the cluster:\n",
    "- **Cluster Version**: The version of H2O running (e.g., 3.46.0.4).\n",
    "- **Total Memory**: The amount of free memory available, here 7.5 GB.\n",
    "- **Total Cores**: The server uses 4 CPU cores.\n",
    "- **Cluster Status**: The cluster is running and healthy.\n",
    "\n",
    "#### 3. **Data Parsing**\n",
    "H2O parses the provided data into its own internal format for analysis. This is indicated by:\n",
    "- **\"Parse progress: (done) 100%\"**: The dataset is fully parsed and ready for model training.\n",
    "\n",
    "#### 4. **AutoML Process and Results**\n",
    "The H2O AutoML feature trains and evaluates multiple models automatically. After completion, a leaderboard of models is displayed with evaluation metrics such as **RMSE** (Root Mean Squared Error), **MSE** (Mean Squared Error), **MAE** (Mean Absolute Error), and **RMSLE** (Root Mean Squared Log Error).\n",
    "\n",
    "Example of leaderboard entries:\n",
    "- **StackedEnsemble_AllModels_2_AutoML**: The best performing model with RMSE of 70,657.8 and MSE of 4.99e+09.\n",
    "- **DeepLearning_1_AutoML**: Another model with RMSE of 70,971.1 and similar performance.\n",
    "\n",
    "The objective of the AutoML process is to minimize RMSE, and the models are sorted based on this metric.\n",
    "\n",
    "#### 5. **Model Interpretation**\n",
    "- **RMSE**: Measures the average magnitude of errors between predicted and actual values. The lower, the better.\n",
    "- **MSE**: Squared differences between predictions and true values.\n",
    "- **MAE**: The mean of the absolute differences between predicted and true values.\n",
    "- **RMSLE**: Measures the logarithmic differences between predicted and true values, used when dealing with exponential growth data.\n",
    "\n",
    "The **StackedEnsemble** models generally perform the best in this case, combining multiple models' strengths.\n"
   ]
  }
 ],
 "metadata": {
  "kaggle": {
   "accelerator": "none",
   "dataSources": [
    {
     "databundleVersionId": 9057646,
     "sourceId": 76728,
     "sourceType": "competition"
    }
   ],
   "dockerImageVersionId": 30761,
   "isGpuEnabled": false,
   "isInternetEnabled": true,
   "language": "python",
   "sourceType": "notebook"
  },
  "kernelspec": {
   "display_name": "Python 3 (ipykernel)",
   "language": "python",
   "name": "python3"
  },
  "language_info": {
   "codemirror_mode": {
    "name": "ipython",
    "version": 3
   },
   "file_extension": ".py",
   "mimetype": "text/x-python",
   "name": "python",
   "nbconvert_exporter": "python",
   "pygments_lexer": "ipython3",
   "version": "3.10.11"
  },
  "papermill": {
   "default_parameters": {},
   "duration": 708.544437,
   "end_time": "2024-09-21T11:55:21.179514",
   "environment_variables": {},
   "exception": null,
   "input_path": "__notebook__.ipynb",
   "output_path": "__notebook__.ipynb",
   "parameters": {},
   "start_time": "2024-09-21T11:43:32.635077",
   "version": "2.6.0"
  },
  "widgets": {
   "application/vnd.jupyter.widget-state+json": {
    "state": {
     "0029506239564cacbaa516fd992832c4": {
      "model_module": "@jupyter-widgets/controls",
      "model_module_version": "2.0.0",
      "model_name": "DescriptionStyleModel",
      "state": {
       "_model_module": "@jupyter-widgets/controls",
       "_model_name": "DescriptionStyleModel",
       "_view_name": "ErrorWidgetView",
       "description_width": "",
       "error": {},
       "msg": "Failed to load model class 'DescriptionStyleModel' from module '@jupyter-widgets/controls'"
      }
     },
     "12b6806b73564e6d8940d2774d487836": {
      "model_module": "@jupyter-widgets/controls",
      "model_module_version": "2.0.0",
      "model_name": "HBoxModel",
      "state": {
       "_model_module": "@jupyter-widgets/controls",
       "_model_name": "HBoxModel",
       "_view_name": "ErrorWidgetView",
       "box_style": "",
       "children": [
        "IPY_MODEL_12c3c3c8c65144b2b4cdb46f6522d481",
        "IPY_MODEL_5c14b9502b2f453ba3e54960858a0cb3",
        "IPY_MODEL_ff2f5d07e9334eddbde9f1f09d4ea329"
       ],
       "error": {},
       "layout": "IPY_MODEL_f00113598c2a4d319f2e0c039a96f565",
       "msg": "Failed to load model class 'HBoxModel' from module '@jupyter-widgets/controls'"
      }
     },
     "12c3c3c8c65144b2b4cdb46f6522d481": {
      "model_module": "@jupyter-widgets/controls",
      "model_module_version": "2.0.0",
      "model_name": "HTMLModel",
      "state": {
       "_model_module": "@jupyter-widgets/controls",
       "_model_name": "HTMLModel",
       "_view_name": "ErrorWidgetView",
       "description": "",
       "description_tooltip": null,
       "error": {},
       "layout": "IPY_MODEL_df6bf39088654bffa156224b7e6ed9b6",
       "msg": "Failed to load model class 'HTMLModel' from module '@jupyter-widgets/controls'",
       "placeholder": "​",
       "style": "IPY_MODEL_4dacb985d3f5439e9848081d13e3cf0f",
       "value": "Done! Use &#x27;show&#x27; commands to display/save.   "
      }
     },
     "2a526aa6690446d498bb7359b3647d83": {
      "model_module": "@jupyter-widgets/controls",
      "model_module_version": "2.0.0",
      "model_name": "ProgressStyleModel",
      "state": {
       "_model_module": "@jupyter-widgets/controls",
       "_model_name": "ProgressStyleModel",
       "_view_name": "ErrorWidgetView",
       "bar_color": null,
       "description_width": "",
       "error": {},
       "msg": "Failed to load model class 'ProgressStyleModel' from module '@jupyter-widgets/controls'"
      }
     },
     "4dacb985d3f5439e9848081d13e3cf0f": {
      "model_module": "@jupyter-widgets/controls",
      "model_module_version": "2.0.0",
      "model_name": "DescriptionStyleModel",
      "state": {
       "_model_module": "@jupyter-widgets/controls",
       "_model_name": "DescriptionStyleModel",
       "_view_name": "ErrorWidgetView",
       "description_width": "",
       "error": {},
       "msg": "Failed to load model class 'DescriptionStyleModel' from module '@jupyter-widgets/controls'"
      }
     },
     "5c14b9502b2f453ba3e54960858a0cb3": {
      "model_module": "@jupyter-widgets/controls",
      "model_module_version": "2.0.0",
      "model_name": "FloatProgressModel",
      "state": {
       "_model_module": "@jupyter-widgets/controls",
       "_model_name": "FloatProgressModel",
       "_view_name": "ErrorWidgetView",
       "bar_style": "success",
       "description": "",
       "description_tooltip": null,
       "error": {},
       "layout": "IPY_MODEL_e28b3ad624124732b83378d917e2cff7",
       "max": 1,
       "min": 0,
       "msg": "Failed to load model class 'FloatProgressModel' from module '@jupyter-widgets/controls'",
       "orientation": "horizontal",
       "style": "IPY_MODEL_2a526aa6690446d498bb7359b3647d83",
       "value": 1
      }
     },
     "dc96e07080624aa585c80e6c2ad426a8": {
      "model_module": "@jupyter-widgets/base",
      "model_module_version": "2.0.0",
      "model_name": "LayoutModel",
      "state": {
       "_model_name": "LayoutModel",
       "_view_name": "ErrorWidgetView",
       "align_content": null,
       "align_items": null,
       "align_self": null,
       "border": null,
       "bottom": null,
       "display": null,
       "error": {},
       "flex": null,
       "flex_flow": null,
       "grid_area": null,
       "grid_auto_columns": null,
       "grid_auto_flow": null,
       "grid_auto_rows": null,
       "grid_column": null,
       "grid_gap": null,
       "grid_row": null,
       "grid_template_areas": null,
       "grid_template_columns": null,
       "grid_template_rows": null,
       "height": null,
       "justify_content": null,
       "justify_items": null,
       "left": null,
       "margin": null,
       "max_height": null,
       "max_width": null,
       "min_height": null,
       "min_width": null,
       "msg": "Failed to load model class 'LayoutModel' from module '@jupyter-widgets/base'",
       "object_fit": null,
       "object_position": null,
       "order": null,
       "overflow": null,
       "overflow_x": null,
       "overflow_y": null,
       "padding": null,
       "right": null,
       "top": null,
       "visibility": null,
       "width": null
      }
     },
     "df6bf39088654bffa156224b7e6ed9b6": {
      "model_module": "@jupyter-widgets/base",
      "model_module_version": "2.0.0",
      "model_name": "LayoutModel",
      "state": {
       "_model_name": "LayoutModel",
       "_view_name": "ErrorWidgetView",
       "align_content": null,
       "align_items": null,
       "align_self": null,
       "border": null,
       "bottom": null,
       "display": null,
       "error": {},
       "flex": null,
       "flex_flow": null,
       "grid_area": null,
       "grid_auto_columns": null,
       "grid_auto_flow": null,
       "grid_auto_rows": null,
       "grid_column": null,
       "grid_gap": null,
       "grid_row": null,
       "grid_template_areas": null,
       "grid_template_columns": null,
       "grid_template_rows": null,
       "height": null,
       "justify_content": null,
       "justify_items": null,
       "left": null,
       "margin": null,
       "max_height": null,
       "max_width": null,
       "min_height": null,
       "min_width": null,
       "msg": "Failed to load model class 'LayoutModel' from module '@jupyter-widgets/base'",
       "object_fit": null,
       "object_position": null,
       "order": null,
       "overflow": null,
       "overflow_x": null,
       "overflow_y": null,
       "padding": null,
       "right": null,
       "top": null,
       "visibility": null,
       "width": null
      }
     },
     "e28b3ad624124732b83378d917e2cff7": {
      "model_module": "@jupyter-widgets/base",
      "model_module_version": "2.0.0",
      "model_name": "LayoutModel",
      "state": {
       "_model_name": "LayoutModel",
       "_view_name": "ErrorWidgetView",
       "align_content": null,
       "align_items": null,
       "align_self": null,
       "border": null,
       "bottom": null,
       "display": null,
       "error": {},
       "flex": "2",
       "flex_flow": null,
       "grid_area": null,
       "grid_auto_columns": null,
       "grid_auto_flow": null,
       "grid_auto_rows": null,
       "grid_column": null,
       "grid_gap": null,
       "grid_row": null,
       "grid_template_areas": null,
       "grid_template_columns": null,
       "grid_template_rows": null,
       "height": null,
       "justify_content": null,
       "justify_items": null,
       "left": null,
       "margin": null,
       "max_height": null,
       "max_width": null,
       "min_height": null,
       "min_width": null,
       "msg": "Failed to load model class 'LayoutModel' from module '@jupyter-widgets/base'",
       "object_fit": null,
       "object_position": null,
       "order": null,
       "overflow": null,
       "overflow_x": null,
       "overflow_y": null,
       "padding": null,
       "right": null,
       "top": null,
       "visibility": null,
       "width": null
      }
     },
     "f00113598c2a4d319f2e0c039a96f565": {
      "model_module": "@jupyter-widgets/base",
      "model_module_version": "2.0.0",
      "model_name": "LayoutModel",
      "state": {
       "_model_name": "LayoutModel",
       "_view_name": "ErrorWidgetView",
       "align_content": null,
       "align_items": null,
       "align_self": null,
       "border": null,
       "bottom": null,
       "display": "inline-flex",
       "error": {},
       "flex": null,
       "flex_flow": "row wrap",
       "grid_area": null,
       "grid_auto_columns": null,
       "grid_auto_flow": null,
       "grid_auto_rows": null,
       "grid_column": null,
       "grid_gap": null,
       "grid_row": null,
       "grid_template_areas": null,
       "grid_template_columns": null,
       "grid_template_rows": null,
       "height": null,
       "justify_content": null,
       "justify_items": null,
       "left": null,
       "margin": null,
       "max_height": null,
       "max_width": null,
       "min_height": null,
       "min_width": null,
       "msg": "Failed to load model class 'LayoutModel' from module '@jupyter-widgets/base'",
       "object_fit": null,
       "object_position": null,
       "order": null,
       "overflow": null,
       "overflow_x": null,
       "overflow_y": null,
       "padding": null,
       "right": null,
       "top": null,
       "visibility": null,
       "width": "100%"
      }
     },
     "ff2f5d07e9334eddbde9f1f09d4ea329": {
      "model_module": "@jupyter-widgets/controls",
      "model_module_version": "2.0.0",
      "model_name": "HTMLModel",
      "state": {
       "_model_module": "@jupyter-widgets/controls",
       "_model_name": "HTMLModel",
       "_view_name": "ErrorWidgetView",
       "description": "",
       "description_tooltip": null,
       "error": {},
       "layout": "IPY_MODEL_dc96e07080624aa585c80e6c2ad426a8",
       "msg": "Failed to load model class 'HTMLModel' from module '@jupyter-widgets/controls'",
       "placeholder": "​",
       "style": "IPY_MODEL_0029506239564cacbaa516fd992832c4",
       "value": " [100%]   00:00 -&gt; (00:00 left)"
      }
     }
    },
    "version_major": 2,
    "version_minor": 0
   }
  }
 },
 "nbformat": 4,
 "nbformat_minor": 5
}
