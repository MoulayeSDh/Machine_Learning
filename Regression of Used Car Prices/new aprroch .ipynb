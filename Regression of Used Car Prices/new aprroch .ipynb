{
 "cells": [
  {
   "cell_type": "code",
   "execution_count": null,
   "id": "68ac9ad8-33a6-465f-af1f-fabacb1be4a6",
   "metadata": {},
   "outputs": [],
   "source": [
    "# Import necessary libraries\n",
    "import numpy as np\n",
    "import pandas as pd\n",
    "from sklearn.impute import KNNImputer\n",
    "from sklearn.preprocessing import RobustScaler, OneHotEncoder\n",
    "from sklearn.model_selection import train_test_split\n",
    "from sklearn.metrics import mean_squared_error\n",
    "from scipy.stats import boxcox\n",
    "from scipy.special import inv_boxcox\n",
    "import warnings\n",
    "warnings.simplefilter(\"ignore\")"
   ]
  },
  {
   "cell_type": "code",
   "execution_count": null,
   "id": "59427924-48db-4132-a0e4-b975c8f08d82",
   "metadata": {},
   "outputs": [],
   "source": [
    "# Load CSV files\n",
    "df_train = pd.read_csv('train.csv')\n",
    "df_test = pd.read_csv('test.csv')"
   ]
  },
  {
   "cell_type": "code",
   "execution_count": null,
   "id": "c2268f13-53b8-4a3c-95a2-a61255c00f4e",
   "metadata": {},
   "outputs": [],
   "source": [
    " #Drop the 'id' column as it's not useful\n",
    "\n",
    "df_train = df_train.drop(columns=['id'])\n",
    "id_test = df_test['id']\n",
    "df_test = df_test.drop(columns=['id'])"
   ]
  },
  {
   "cell_type": "code",
   "execution_count": null,
   "id": "3cb93d45-7776-4c7a-a767-9dd931ddccc5",
   "metadata": {},
   "outputs": [],
   "source": [
    "# Handle missing values in 'clean_title', 'fuel_type', and 'accident'\n",
    "df_train['clean_title'].fillna('Unknown', inplace=True)\n",
    "df_test['clean_title'].fillna('Unknown', inplace=True)"
   ]
  },
  {
   "cell_type": "code",
   "execution_count": null,
   "id": "67c7ed91-86d9-4e3b-91d1-4ce020c75a89",
   "metadata": {},
   "outputs": [],
   "source": [
    "# Fill missing values in 'fuel_type' and 'accident' using mode per group of 'model' and 'model_year'\n",
    "df_train['fuel_type'] = df_train.groupby(['model', 'model_year'])['fuel_type'].transform(lambda x: x.fillna(x.mode()[0] if not x.mode().empty else 'Unknown'))\n",
    "df_test['fuel_type'] = df_test.groupby(['model', 'model_year'])['fuel_type'].transform(lambda x: x.fillna(x.mode()[0] if not x.mode().empty else 'Unknown'))\n",
    "\n",
    "df_train['accident'] = df_train.groupby(['model', 'model_year'])['accident'].transform(lambda x: x.fillna(x.mode()[0] if not x.mode().empty else 'Unknown'))\n",
    "df_test['accident'] = df_test.groupby(['model', 'model_year'])['accident'].transform(lambda x: x.fillna(x.mode()[0] if not x.mode().empty else 'Unknown'))"
   ]
  },
  {
   "cell_type": "code",
   "execution_count": null,
   "id": "1e44671d-300e-493a-b1fc-5fd8f2d30d5c",
   "metadata": {},
   "outputs": [],
   "source": [
    "# Add car age and drop model_year\n",
    "df_train['car_age'] = 2024 - df_train['model_year']\n",
    "df_test['car_age'] = 2024 - df_test['model_year']\n",
    "df_train.drop('model_year', axis=1, inplace=True)\n",
    "df_test.drop('model_year', axis=1, inplace=True)"
   ]
  },
  {
   "cell_type": "code",
   "execution_count": null,
   "id": "63ecaa3b-5b34-4a96-a9aa-e30485ee898b",
   "metadata": {},
   "outputs": [],
   "source": [
    "# Target encoding for 'model' to avoid high cardinality\n",
    "mean_price_per_model = df_train.groupby('model')['price'].mean()\n",
    "df_train['model'] = df_train['model'].map(mean_price_per_model)\n",
    "df_test['model'] = df_test['model'].map(mean_price_per_model)\n",
    "\n",
    "# Extract engine power and cylinder\n",
    "df_train['engine_power'] = df_train['engine'].str.extract(r'(\\d+\\.?\\d*)HP').astype(float)\n",
    "df_test['engine_power'] = df_test['engine'].str.extract(r'(\\d+\\.?\\d*)HP').astype(float)\n",
    "\n",
    "df_train['engine_cylinder'] = df_train['engine'].str.extract(r'(\\d+\\.?\\d*)L').astype(float)\n",
    "df_test['engine_cylinder'] = df_test['engine'].str.extract(r'(\\d+\\.?\\d*)L').astype(float)\n",
    "\n",
    "# Remove the 'engine' column after extraction\n",
    "df_train.drop('engine', axis=1, inplace=True)\n",
    "df_test.drop('engine', axis=1, inplace=True)"
   ]
  },
  {
   "cell_type": "code",
   "execution_count": null,
   "id": "9d7688e6-1379-4167-9e12-437b877b1e9b",
   "metadata": {},
   "outputs": [],
   "source": [
    "# Regroup rare colors in 'ext_col' and 'int_col'\n",
    "color_threshold = 100\n",
    "ext_color_counts = df_train['ext_col'].value_counts()\n",
    "rare_ext_colors = ext_color_counts[ext_color_counts < color_threshold].index\n",
    "df_train['ext_col'] = df_train['ext_col'].replace(rare_ext_colors, 'Other')\n",
    "df_test['ext_col'] = df_test['ext_col'].replace(rare_ext_colors, 'Other')\n",
    "\n",
    "int_color_counts = df_train['int_col'].value_counts()\n",
    "rare_int_colors = int_color_counts[int_color_counts < color_threshold].index\n",
    "df_train['int_col'] = df_train['int_col'].replace(rare_int_colors, 'Other')\n",
    "df_test['int_col'] = df_test['int_col'].replace(rare_int_colors, 'Other')"
   ]
  },
  {
   "cell_type": "code",
   "execution_count": null,
   "id": "27a8c68d-1646-414c-b223-af7dd9a850c6",
   "metadata": {},
   "outputs": [],
   "source": [
    "# Fill missing engine_power and engine_cylinder with mean values\n",
    "df_train['engine_power'].fillna(df_train['engine_power'].mean(), inplace=True)\n",
    "df_test['engine_power'].fillna(df_test['engine_power'].mean(), inplace=True)\n",
    "\n",
    "df_train['engine_cylinder'].fillna(df_train['engine_cylinder'].mean(), inplace=True)\n",
    "df_test['engine_cylinder'].fillna(df_test['engine_cylinder'].mean(), inplace=True)"
   ]
  },
  {
   "cell_type": "code",
   "execution_count": null,
   "id": "0f73b2c1-bd00-4b9e-8cfa-bd63b0ea2685",
   "metadata": {},
   "outputs": [],
   "source": [
    "# Separate numerical and categorical columns\n",
    "categorical_columns = ['brand', 'fuel_type', 'transmission', 'ext_col', 'int_col', 'accident', 'clean_title']\n",
    "numerical_columns = df_train.select_dtypes(exclude=['object']).columns.tolist()\n",
    "numerical_columns.remove('price')  # Don't include target"
   ]
  },
  {
   "cell_type": "code",
   "execution_count": null,
   "id": "8a1efc34-8d15-48bf-aff6-4c0d9a581d32",
   "metadata": {},
   "outputs": [],
   "source": [
    "# OneHotEncode only for categorical columns with low cardinality\n",
    "encoder = OneHotEncoder(handle_unknown='ignore', sparse=False)\n",
    "\n",
    "# Apply OneHotEncoder to categorical columns\n",
    "encoded_train = pd.DataFrame(encoder.fit_transform(df_train[categorical_columns]))\n",
    "encoded_test = pd.DataFrame(encoder.transform(df_test[categorical_columns]))\n",
    "\n",
    "# Add column names to encoded data\n",
    "encoded_train.columns = encoder.get_feature_names_out(categorical_columns)\n",
    "encoded_test.columns = encoder.get_feature_names_out(categorical_columns)\n",
    "\n",
    "# Reset index to align encoded data with original data\n",
    "encoded_train.index = df_train.index\n",
    "encoded_test.index = df_test.index\n",
    "\n",
    "# Concatenate encoded categorical columns with numerical columns\n",
    "X_train = pd.concat([df_train[numerical_columns], encoded_train], axis=1)\n",
    "X_test = pd.concat([df_test[numerical_columns], encoded_test], axis=1)\n",
    "\n",
    "# Align the columns between train and test sets to avoid issues with different columns\n",
    "X_train, X_test = X_train.align(X_test, join='left', axis=1, fill_value=0)"
   ]
  },
  {
   "cell_type": "code",
   "execution_count": null,
   "id": "d0b57d72-be21-4b2a-a434-920cd8619236",
   "metadata": {},
   "outputs": [],
   "source": [
    "# Target variable\n",
    "y_train = df_train['price']\n",
    "\n",
    "# Apply Box-Cox transformation to target variable (price)\n",
    "y_train_boxcox, lambda_ = boxcox(y_train + 1)  # Adding 1 to avoid issues with zero values\n",
    "\n",
    "# Imputation with KNNImputer\n",
    "knn_imputer = KNNImputer(n_neighbors=5)\n",
    "X_train_imputed = knn_imputer.fit_transform(X_train)\n",
    "X_test_imputed = knn_imputer.transform(X_test)\n",
    "\n",
    "# Apply RobustScaler to numerical columns\n",
    "scaler = RobustScaler()\n",
    "X_train_imputed_scaled = scaler.fit_transform(X_train_imputed)\n",
    "X_test_imputed_scaled = scaler.transform(X_test_imputed)\n",
    "\n",
    "# Train-test split for evaluation\n",
    "X_train_split, X_val, y_train_split, y_val = train_test_split(X_train_imputed_scaled, y_train_boxcox, test_size=0.2, random_state=42)\n",
    "\n",
    "# Example: Using a simple model like Ridge to evaluate\n",
    "from sklearn.linear_model import Ridge\n",
    "\n",
    "ridge_model = Ridge()\n",
    "ridge_model.fit(X_train_split, y_train_split)\n",
    "y_pred_boxcox = ridge_model.predict(X_val)\n",
    "\n",
    "# Inverse Box-Cox transformation to get predictions back to the original scale\n",
    "y_pred = inv_boxcox(y_pred_boxcox, lambda_)\n",
    "\n",
    "# RMSE evaluation in the original scale\n",
    "rmse = np.sqrt(mean_squared_error(np.exp(y_val), y_pred))\n",
    "print(f'Ridge Model RMSE: {rmse}')"
   ]
  }
 ],
 "metadata": {
  "kernelspec": {
   "display_name": "Python 3 (ipykernel)",
   "language": "python",
   "name": "python3"
  },
  "language_info": {
   "codemirror_mode": {
    "name": "ipython",
    "version": 3
   },
   "file_extension": ".py",
   "mimetype": "text/x-python",
   "name": "python",
   "nbconvert_exporter": "python",
   "pygments_lexer": "ipython3",
   "version": "3.10.11"
  },
  "widgets": {
   "application/vnd.jupyter.widget-state+json": {
    "state": {},
    "version_major": 2,
    "version_minor": 0
   }
  }
 },
 "nbformat": 4,
 "nbformat_minor": 5
}
