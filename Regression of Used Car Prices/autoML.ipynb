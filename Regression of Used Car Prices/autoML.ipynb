{
 "cells": [
  {
   "cell_type": "markdown",
   "metadata": {},
   "source": [
    "# Introduction to AutoML with Sweetviz and H2O AutoML\n",
    "\n",
    "In this project, we applied automated machine learning (AutoML) to predict used car prices. We used two main tools:\n",
    "\n",
    "1. **Sweetviz** for data exploration.\n",
    "2. **H2O AutoML** for building regression models.\n",
    "\n",
    "While these tools can save a lot of time, there are important trade-offs to consider, especially when it comes to understanding the process behind the results.\n",
    "\n",
    "## Sweetviz: Automated Data Exploration\n",
    "\n",
    "Sweetviz is a Python library that quickly generates a visual report of your dataset. It helps you get a snapshot of the data’s structure, including distributions, correlations, and missing values.\n",
    "\n",
    "### Benefits:\n",
    "- It’s very fast and easy to use.\n",
    "- Provides a detailed report with minimal effort.\n",
    "\n",
    "### Downsides:\n",
    "- Limited customization options.\n",
    "- Doesn't offer deep analysis beyond basic data exploration.\n",
    "\n",
    "## H2O AutoML: Automated Model Building\n",
    "\n",
    "H2O AutoML is an open-source tool that automates the process of creating and tuning machine learning models. It tests various models and chooses the best one based on performance metrics.\n",
    "\n",
    "### Benefits:\n",
    "- Saves time by automating the entire modeling process, from data preparation to model selection and tuning.\n",
    "- Can be used by people with limited machine learning experience.\n",
    "\n",
    "### Downsides:\n",
    "- **Black box problem**: AutoML can feel like a black box. It builds models automatically, but you don’t always know how or why certain decisions were made (e.g., which features were most important).\n",
    "- **Less control**: You don’t have full control over the process, which can be frustrating if you want to fine-tune or understand the model in more detail.\n",
    "\n",
    "## Why AutoML Isn’t Always the Best Choice\n",
    "\n",
    "Even though tools like H2O AutoML save time, I don’t recommend using them in every situation for the following reasons:\n",
    "\n",
    "1. **Lack of transparency**: Since AutoML handles everything for you, it’s hard to understand how the model was built or what decisions were made during the process.\n",
    "   \n",
    "2. **Limited flexibility**: AutoML may not give you the customization you need for complex or highly specific tasks.\n",
    "\n",
    "3. **Over-reliance on automation**: Relying too much on these tools can prevent you from learning or applying the important concepts behind machine learning. In some cases, a deeper understanding is needed, especially when explaining or adapting the model for real-world applications.\n",
    "\n",
    "## Conclusion\n",
    "\n",
    "Sweetviz and H2O AutoML are great tools for quickly exploring data and building machine learning models. However, because they work like a \"black box,\" you should use them with caution in cases where it’s important to understand or explain how a model works. AutoML is a good starting point but shouldn’t replace manual model-building in situations that require more control and transparency.\n"
   ]
  },
  {
   "cell_type": "code",
   "execution_count": 3,
   "metadata": {},
   "outputs": [],
   "source": [
    "# Import\n",
    "import numpy as np\n",
    "import pandas as pd\n",
    "from datetime import datetime\n",
    "#from sklearn.preprocessing import RobustScaler\n",
    "#from sklearn.linear_model import Lasso, Ridge\n",
    "#from sklearn.ensemble import RandomForestRegressor\n",
    "#from catboost import CatBoostRegressor\n",
    "#from lightgbm import LGBMRegressor\n",
    "#from sklearn.model_selection import train_test_split, cross_val_score, RandomizedSearchCV\n",
    "#from sklearn.metrics import mean_squared_error\n",
    "#import matplotlib.pyplot as plt\n",
    "#import seaborn as sns\n",
    "import warnings\n",
    "warnings.simplefilter(\"ignore\")"
   ]
  },
  {
   "cell_type": "code",
   "execution_count": 4,
   "metadata": {},
   "outputs": [],
   "source": [
    "# Load CSV files (train and test)\n",
    "df_train = pd.read_csv('train.csv')\n",
    "df_test = pd.read_csv('test.csv')\n",
    "df_train = df_train.drop(columns=['id'])\n",
    "df=df_train.copy()"
   ]
  },
  {
   "cell_type": "code",
   "execution_count": 5,
   "metadata": {},
   "outputs": [
    {
     "name": "stdout",
     "output_type": "stream",
     "text": [
      "train data : (188533, 12)\n",
      "test data : (125690, 12)\n"
     ]
    },
    {
     "data": {
      "text/html": [
       "<div>\n",
       "<style scoped>\n",
       "    .dataframe tbody tr th:only-of-type {\n",
       "        vertical-align: middle;\n",
       "    }\n",
       "\n",
       "    .dataframe tbody tr th {\n",
       "        vertical-align: top;\n",
       "    }\n",
       "\n",
       "    .dataframe thead th {\n",
       "        text-align: right;\n",
       "    }\n",
       "</style>\n",
       "<table border=\"1\" class=\"dataframe\">\n",
       "  <thead>\n",
       "    <tr style=\"text-align: right;\">\n",
       "      <th></th>\n",
       "      <th>brand</th>\n",
       "      <th>model</th>\n",
       "      <th>model_year</th>\n",
       "      <th>milage</th>\n",
       "      <th>fuel_type</th>\n",
       "      <th>engine</th>\n",
       "      <th>transmission</th>\n",
       "      <th>ext_col</th>\n",
       "      <th>int_col</th>\n",
       "      <th>accident</th>\n",
       "      <th>clean_title</th>\n",
       "      <th>price</th>\n",
       "    </tr>\n",
       "  </thead>\n",
       "  <tbody>\n",
       "    <tr>\n",
       "      <th>0</th>\n",
       "      <td>MINI</td>\n",
       "      <td>Cooper S Base</td>\n",
       "      <td>2007</td>\n",
       "      <td>213000</td>\n",
       "      <td>Gasoline</td>\n",
       "      <td>172.0HP 1.6L 4 Cylinder Engine Gasoline Fuel</td>\n",
       "      <td>A/T</td>\n",
       "      <td>Yellow</td>\n",
       "      <td>Gray</td>\n",
       "      <td>None reported</td>\n",
       "      <td>Yes</td>\n",
       "      <td>4200</td>\n",
       "    </tr>\n",
       "    <tr>\n",
       "      <th>1</th>\n",
       "      <td>Lincoln</td>\n",
       "      <td>LS V8</td>\n",
       "      <td>2002</td>\n",
       "      <td>143250</td>\n",
       "      <td>Gasoline</td>\n",
       "      <td>252.0HP 3.9L 8 Cylinder Engine Gasoline Fuel</td>\n",
       "      <td>A/T</td>\n",
       "      <td>Silver</td>\n",
       "      <td>Beige</td>\n",
       "      <td>At least 1 accident or damage reported</td>\n",
       "      <td>Yes</td>\n",
       "      <td>4999</td>\n",
       "    </tr>\n",
       "    <tr>\n",
       "      <th>2</th>\n",
       "      <td>Chevrolet</td>\n",
       "      <td>Silverado 2500 LT</td>\n",
       "      <td>2002</td>\n",
       "      <td>136731</td>\n",
       "      <td>E85 Flex Fuel</td>\n",
       "      <td>320.0HP 5.3L 8 Cylinder Engine Flex Fuel Capab...</td>\n",
       "      <td>A/T</td>\n",
       "      <td>Blue</td>\n",
       "      <td>Gray</td>\n",
       "      <td>None reported</td>\n",
       "      <td>Yes</td>\n",
       "      <td>13900</td>\n",
       "    </tr>\n",
       "    <tr>\n",
       "      <th>3</th>\n",
       "      <td>Genesis</td>\n",
       "      <td>G90 5.0 Ultimate</td>\n",
       "      <td>2017</td>\n",
       "      <td>19500</td>\n",
       "      <td>Gasoline</td>\n",
       "      <td>420.0HP 5.0L 8 Cylinder Engine Gasoline Fuel</td>\n",
       "      <td>Transmission w/Dual Shift Mode</td>\n",
       "      <td>Black</td>\n",
       "      <td>Black</td>\n",
       "      <td>None reported</td>\n",
       "      <td>Yes</td>\n",
       "      <td>45000</td>\n",
       "    </tr>\n",
       "    <tr>\n",
       "      <th>4</th>\n",
       "      <td>Mercedes-Benz</td>\n",
       "      <td>Metris Base</td>\n",
       "      <td>2021</td>\n",
       "      <td>7388</td>\n",
       "      <td>Gasoline</td>\n",
       "      <td>208.0HP 2.0L 4 Cylinder Engine Gasoline Fuel</td>\n",
       "      <td>7-Speed A/T</td>\n",
       "      <td>Black</td>\n",
       "      <td>Beige</td>\n",
       "      <td>None reported</td>\n",
       "      <td>Yes</td>\n",
       "      <td>97500</td>\n",
       "    </tr>\n",
       "  </tbody>\n",
       "</table>\n",
       "</div>"
      ],
      "text/plain": [
       "           brand              model  model_year  milage      fuel_type  \\\n",
       "0           MINI      Cooper S Base        2007  213000       Gasoline   \n",
       "1        Lincoln              LS V8        2002  143250       Gasoline   \n",
       "2      Chevrolet  Silverado 2500 LT        2002  136731  E85 Flex Fuel   \n",
       "3        Genesis   G90 5.0 Ultimate        2017   19500       Gasoline   \n",
       "4  Mercedes-Benz        Metris Base        2021    7388       Gasoline   \n",
       "\n",
       "                                              engine  \\\n",
       "0       172.0HP 1.6L 4 Cylinder Engine Gasoline Fuel   \n",
       "1       252.0HP 3.9L 8 Cylinder Engine Gasoline Fuel   \n",
       "2  320.0HP 5.3L 8 Cylinder Engine Flex Fuel Capab...   \n",
       "3       420.0HP 5.0L 8 Cylinder Engine Gasoline Fuel   \n",
       "4       208.0HP 2.0L 4 Cylinder Engine Gasoline Fuel   \n",
       "\n",
       "                     transmission ext_col int_col  \\\n",
       "0                             A/T  Yellow    Gray   \n",
       "1                             A/T  Silver   Beige   \n",
       "2                             A/T    Blue    Gray   \n",
       "3  Transmission w/Dual Shift Mode   Black   Black   \n",
       "4                     7-Speed A/T   Black   Beige   \n",
       "\n",
       "                                 accident clean_title  price  \n",
       "0                           None reported         Yes   4200  \n",
       "1  At least 1 accident or damage reported         Yes   4999  \n",
       "2                           None reported         Yes  13900  \n",
       "3                           None reported         Yes  45000  \n",
       "4                           None reported         Yes  97500  "
      ]
     },
     "execution_count": 5,
     "metadata": {},
     "output_type": "execute_result"
    }
   ],
   "source": [
    "print(\"train data : {}\".format(df.shape))\n",
    "print(\"test data : {}\".format(df_test.shape))\n",
    "df.head()"
   ]
  },
  {
   "cell_type": "code",
   "execution_count": 6,
   "metadata": {},
   "outputs": [
    {
     "data": {
      "text/plain": [
       "brand           object\n",
       "model           object\n",
       "model_year       int64\n",
       "milage           int64\n",
       "fuel_type       object\n",
       "engine          object\n",
       "transmission    object\n",
       "ext_col         object\n",
       "int_col         object\n",
       "accident        object\n",
       "clean_title     object\n",
       "price            int64\n",
       "dtype: object"
      ]
     },
     "execution_count": 6,
     "metadata": {},
     "output_type": "execute_result"
    }
   ],
   "source": [
    "df.dtypes"
   ]
  },
  {
   "cell_type": "code",
   "execution_count": 7,
   "metadata": {},
   "outputs": [
    {
     "data": {
      "text/plain": [
       "0"
      ]
     },
     "execution_count": 7,
     "metadata": {},
     "output_type": "execute_result"
    }
   ],
   "source": [
    "df.duplicated().sum()"
   ]
  },
  {
   "cell_type": "code",
   "execution_count": 8,
   "metadata": {},
   "outputs": [
    {
     "data": {
      "text/plain": [
       "brand            0.000000\n",
       "model            0.000000\n",
       "model_year       0.000000\n",
       "milage           0.000000\n",
       "fuel_type        2.696080\n",
       "engine           0.000000\n",
       "transmission     0.000000\n",
       "ext_col          0.000000\n",
       "int_col          0.000000\n",
       "accident         1.300568\n",
       "clean_title     11.360876\n",
       "price            0.000000\n",
       "dtype: float64"
      ]
     },
     "execution_count": 8,
     "metadata": {},
     "output_type": "execute_result"
    }
   ],
   "source": [
    "#% of null by colums abs\n",
    "(df.isnull().sum())/df.shape[0]*100"
   ]
  },
  {
   "cell_type": "markdown",
   "metadata": {},
   "source": [
    "**any manipilation done to train set must be done to test set**"
   ]
  },
  {
   "cell_type": "code",
   "execution_count": 9,
   "metadata": {},
   "outputs": [],
   "source": [
    "df['clean_title'].fillna('Unknown', inplace=True)\n",
    "df_test['clean_title'].fillna('Unknown', inplace=True)\n",
    "# fill null values in fuel_type and accident\n",
    "df['fuel_type'] = df.groupby(['model', 'model_year'])['fuel_type'].transform(lambda x: x.fillna(x.mode()[0] if not x.mode().empty else 'Unknown'))\n",
    "df_test['fuel_type'] = df_test.groupby(['model', 'model_year'])['fuel_type'].transform(lambda x: x.fillna(x.mode()[0] if not x.mode().empty else 'Unknown'))\n",
    "df['accident'] = df.groupby(['model', 'model_year'])['accident'].transform(lambda x: x.fillna(x.mode()[0] if not x.mode().empty else 'Unknown'))\n",
    "df_test['accident'] = df_test.groupby(['model', 'model_year'])['accident'].transform(lambda x: x.fillna(x.mode()[0] if not x.mode().empty else 'Unknown'))"
   ]
  },
  {
   "cell_type": "code",
   "execution_count": 10,
   "metadata": {},
   "outputs": [
    {
     "data": {
      "application/vnd.jupyter.widget-view+json": {
       "model_id": "58dbad03dab24f0f9b0a53d946718349",
       "version_major": 2,
       "version_minor": 0
      },
      "text/plain": [
       "                                             |                                             | [  0%]   00:00 ->…"
      ]
     },
     "metadata": {},
     "output_type": "display_data"
    },
    {
     "name": "stdout",
     "output_type": "stream",
     "text": [
      "Report SWEETVIZ_REPORT.html was generated! NOTEBOOK/COLAB USERS: the web browser MAY not pop up, regardless, the report IS saved in your notebook/colab files.\n"
     ]
    }
   ],
   "source": [
    "import sweetviz as sv\n",
    "report = sv.analyze(df)\n",
    "report.show_html()  # generate html report\n"
   ]
  },
  {
   "cell_type": "code",
   "execution_count": 11,
   "metadata": {},
   "outputs": [
    {
     "data": {
      "text/html": [
       "\n",
       "        <iframe\n",
       "            width=\"1000\"\n",
       "            height=\"600\"\n",
       "            src=\"SWEETVIZ_REPORT.html\"\n",
       "            frameborder=\"0\"\n",
       "            allowfullscreen\n",
       "            \n",
       "        ></iframe>\n",
       "        "
      ],
      "text/plain": [
       "<IPython.lib.display.IFrame at 0x21190613070>"
      ]
     },
     "execution_count": 11,
     "metadata": {},
     "output_type": "execute_result"
    }
   ],
   "source": [
    "from IPython.display import IFrame\n",
    "IFrame(src='SWEETVIZ_REPORT.html', width=1000, height=600)"
   ]
  },
  {
   "cell_type": "code",
   "execution_count": 13,
   "metadata": {},
   "outputs": [
    {
     "name": "stdout",
     "output_type": "stream",
     "text": [
      "Checking whether there is an H2O instance running at http://localhost:54321..... not found.\n",
      "Attempting to start a local H2O server...\n",
      "; Java HotSpot(TM) 64-Bit Server VM (build 25.421-b09, mixed mode)\n",
      "  Starting server from C:\\Users\\sisqo32\\anaconda3\\Lib\\site-packages\\h2o\\backend\\bin\\h2o.jar\n",
      "  Ice root: C:\\Users\\sisqo32\\AppData\\Local\\Temp\\tmpd0k_rrm8\n",
      "  JVM stdout: C:\\Users\\sisqo32\\AppData\\Local\\Temp\\tmpd0k_rrm8\\h2o_sisqo32_started_from_python.out\n",
      "  JVM stderr: C:\\Users\\sisqo32\\AppData\\Local\\Temp\\tmpd0k_rrm8\\h2o_sisqo32_started_from_python.err\n",
      "  Server is running at http://127.0.0.1:54321\n",
      "Connecting to H2O server at http://127.0.0.1:54321 ... successful.\n"
     ]
    },
    {
     "data": {
      "text/html": [
       "\n",
       "<style>\n",
       "\n",
       "#h2o-table-1.h2o-container {\n",
       "  overflow-x: auto;\n",
       "}\n",
       "#h2o-table-1 .h2o-table {\n",
       "  /* width: 100%; */\n",
       "  margin-top: 1em;\n",
       "  margin-bottom: 1em;\n",
       "}\n",
       "#h2o-table-1 .h2o-table caption {\n",
       "  white-space: nowrap;\n",
       "  caption-side: top;\n",
       "  text-align: left;\n",
       "  /* margin-left: 1em; */\n",
       "  margin: 0;\n",
       "  font-size: larger;\n",
       "}\n",
       "#h2o-table-1 .h2o-table thead {\n",
       "  white-space: nowrap; \n",
       "  position: sticky;\n",
       "  top: 0;\n",
       "  box-shadow: 0 -1px inset;\n",
       "}\n",
       "#h2o-table-1 .h2o-table tbody {\n",
       "  overflow: auto;\n",
       "}\n",
       "#h2o-table-1 .h2o-table th,\n",
       "#h2o-table-1 .h2o-table td {\n",
       "  text-align: right;\n",
       "  /* border: 1px solid; */\n",
       "}\n",
       "#h2o-table-1 .h2o-table tr:nth-child(even) {\n",
       "  /* background: #F5F5F5 */\n",
       "}\n",
       "\n",
       "</style>      \n",
       "<div id=\"h2o-table-1\" class=\"h2o-container\">\n",
       "  <table class=\"h2o-table\">\n",
       "    <caption></caption>\n",
       "    <thead></thead>\n",
       "    <tbody><tr><td>H2O_cluster_uptime:</td>\n",
       "<td>02 secs</td></tr>\n",
       "<tr><td>H2O_cluster_timezone:</td>\n",
       "<td>UTC</td></tr>\n",
       "<tr><td>H2O_data_parsing_timezone:</td>\n",
       "<td>UTC</td></tr>\n",
       "<tr><td>H2O_cluster_version:</td>\n",
       "<td>3.46.0.5</td></tr>\n",
       "<tr><td>H2O_cluster_version_age:</td>\n",
       "<td>22 days</td></tr>\n",
       "<tr><td>H2O_cluster_name:</td>\n",
       "<td>H2O_from_python_sisqo32_d7e4g0</td></tr>\n",
       "<tr><td>H2O_cluster_total_nodes:</td>\n",
       "<td>1</td></tr>\n",
       "<tr><td>H2O_cluster_free_memory:</td>\n",
       "<td>3.492 Gb</td></tr>\n",
       "<tr><td>H2O_cluster_total_cores:</td>\n",
       "<td>8</td></tr>\n",
       "<tr><td>H2O_cluster_allowed_cores:</td>\n",
       "<td>8</td></tr>\n",
       "<tr><td>H2O_cluster_status:</td>\n",
       "<td>locked, healthy</td></tr>\n",
       "<tr><td>H2O_connection_url:</td>\n",
       "<td>http://127.0.0.1:54321</td></tr>\n",
       "<tr><td>H2O_connection_proxy:</td>\n",
       "<td>{\"http\": null, \"https\": null}</td></tr>\n",
       "<tr><td>H2O_internal_security:</td>\n",
       "<td>False</td></tr>\n",
       "<tr><td>Python_version:</td>\n",
       "<td>3.10.11 final</td></tr></tbody>\n",
       "  </table>\n",
       "</div>\n"
      ],
      "text/plain": [
       "--------------------------  ------------------------------\n",
       "H2O_cluster_uptime:         02 secs\n",
       "H2O_cluster_timezone:       UTC\n",
       "H2O_data_parsing_timezone:  UTC\n",
       "H2O_cluster_version:        3.46.0.5\n",
       "H2O_cluster_version_age:    22 days\n",
       "H2O_cluster_name:           H2O_from_python_sisqo32_d7e4g0\n",
       "H2O_cluster_total_nodes:    1\n",
       "H2O_cluster_free_memory:    3.492 Gb\n",
       "H2O_cluster_total_cores:    8\n",
       "H2O_cluster_allowed_cores:  8\n",
       "H2O_cluster_status:         locked, healthy\n",
       "H2O_connection_url:         http://127.0.0.1:54321\n",
       "H2O_connection_proxy:       {\"http\": null, \"https\": null}\n",
       "H2O_internal_security:      False\n",
       "Python_version:             3.10.11 final\n",
       "--------------------------  ------------------------------"
      ]
     },
     "metadata": {},
     "output_type": "display_data"
    },
    {
     "name": "stdout",
     "output_type": "stream",
     "text": [
      "Parse progress: |████████████████████████████████████████████████████████████████| (done) 100%\n",
      "AutoML progress: |\n",
      "20:01:36.49: AutoML: XGBoost is not available; skipping it.\n",
      "\n",
      "███████████████████████████████████████████████████████████████| (done) 100%\n",
      "model_id                                                    rmse          mse      mae       rmsle    mean_residual_deviance\n",
      "StackedEnsemble_AllModels_3_AutoML_1_20240920_200136     70579.1  4.98141e+09  19084.2    0.53634                4.98141e+09\n",
      "StackedEnsemble_BestOfFamily_4_AutoML_1_20240920_200136  70585.3  4.98228e+09  19120.2    0.53742                4.98228e+09\n",
      "StackedEnsemble_AllModels_2_AutoML_1_20240920_200136     70587.2  4.98255e+09  19120.8    0.537644               4.98255e+09\n",
      "StackedEnsemble_BestOfFamily_3_AutoML_1_20240920_200136  70589.8  4.98293e+09  19134.5  nan                      4.98293e+09\n",
      "DeepLearning_1_AutoML_1_20240920_200136                  70783.5  5.01031e+09  19237.7  nan                      5.01031e+09\n",
      "GBM_grid_1_AutoML_1_20240920_200136_model_10             70888.7  5.02521e+09  19363.5    0.552967               5.02521e+09\n",
      "GBM_grid_1_AutoML_1_20240920_200136_model_5              70912.6  5.02859e+09  19450.3    0.563579               5.02859e+09\n",
      "StackedEnsemble_AllModels_1_AutoML_1_20240920_200136     70964.4  5.03594e+09  19418.8    0.562986               5.03594e+09\n",
      "GBM_grid_1_AutoML_1_20240920_200136_model_12             70970.9  5.03687e+09  19460      0.553648               5.03687e+09\n",
      "GBM_grid_1_AutoML_1_20240920_200136_model_14             71026    5.04469e+09  19523.4  nan                      5.04469e+09\n",
      "[36 rows x 6 columns]\n",
      "\n"
     ]
    }
   ],
   "source": [
    "import h2o\n",
    "from h2o.automl import H2OAutoML\n",
    "\n",
    "# Initialiser le serveur H2O\n",
    "h2o.init()\n",
    "\n",
    "# Charger vos données pandas dans un DataFrame (df est votre DataFrame pandas nettoyé)\n",
    "# Exemple: df = pd.read_csv('votre_fichier.csv')\n",
    "\n",
    "# Convert to H2O Frame\n",
    "h2o_df = h2o.H2OFrame(df)\n",
    "\n",
    "# train test split \n",
    "train, test = h2o_df.split_frame(ratios=[0.8], seed=1234)\n",
    "\n",
    "# choosing target and features \n",
    "x = train.columns[:-1]  \n",
    "y = train.columns[-1]  \n",
    "\n",
    "# Initialising AutoML and choosing RMSE for metric\n",
    "aml = H2OAutoML(max_runtime_secs=600, sort_metric=\"RMSE\")\n",
    "\n",
    "# training \n",
    "aml.train(x=x, y=y, training_frame=train)\n",
    "\n",
    "# print the leaderboard of best model sorted by RMSE\n",
    "lb = aml.leaderboard\n",
    "print(lb)"
   ]
  },
  {
   "cell_type": "markdown",
   "metadata": {},
   "source": [
    "### Explanation of H2O AutoML Results\n",
    "\n",
    "#### 1. **Starting the H2O Server**\n",
    "The H2O AutoML framework requires a local Java-based server to function. When the process begins, H2O checks if there is an instance running on `http://localhost:54321`. If not, it attempts to start a local H2O server. \n",
    "\n",
    "- **\"Attempting to start a local H2O server\"**: H2O automatically starts the server.\n",
    "- **\"Server is running at http://127.0.0.1:54321\"**: The server is successfully running and connected.\n",
    "\n",
    "#### 2. **H2O Cluster Information**\n",
    "After starting, H2O provides the configuration details for the cluster:\n",
    "- **Cluster Version**: The version of H2O running (e.g., 3.46.0.4).\n",
    "- **Total Memory**: The amount of free memory available, here 7.5 GB.\n",
    "- **Total Cores**: The server uses 4 CPU cores.\n",
    "- **Cluster Status**: The cluster is running and healthy.\n",
    "\n",
    "#### 3. **Data Parsing**\n",
    "H2O parses the provided data into its own internal format for analysis. This is indicated by:\n",
    "- **\"Parse progress: (done) 100%\"**: The dataset is fully parsed and ready for model training.\n",
    "\n",
    "#### 4. **AutoML Process and Results**\n",
    "The H2O AutoML feature trains and evaluates multiple models automatically. After completion, a leaderboard of models is displayed with evaluation metrics such as **RMSE** (Root Mean Squared Error), **MSE** (Mean Squared Error), **MAE** (Mean Absolute Error), and **RMSLE** (Root Mean Squared Log Error).\n",
    "\n",
    "Example of leaderboard entries:\n",
    "- **StackedEnsemble_AllModels_2_AutoML**: The best performing model with RMSE of 70,657.8 and MSE of 4.99e+09.\n",
    "- **DeepLearning_1_AutoML**: Another model with RMSE of 70,971.1 and similar performance.\n",
    "\n",
    "The objective of the AutoML process is to minimize RMSE, and the models are sorted based on this metric.\n",
    "\n",
    "#### 5. **Model Interpretation**\n",
    "- **RMSE**: Measures the average magnitude of errors between predicted and actual values. The lower, the better.\n",
    "- **MSE**: Squared differences between predictions and true values.\n",
    "- **MAE**: The mean of the absolute differences between predicted and true values.\n",
    "- **RMSLE**: Measures the logarithmic differences between predicted and true values, used when dealing with exponential growth data.\n",
    "\n",
    "The **StackedEnsemble** models generally perform the best in this case, combining multiple models' strengths.\n"
   ]
  },
  {
   "cell_type": "code",
   "execution_count": 22,
   "metadata": {},
   "outputs": [
    {
     "name": "stdout",
     "output_type": "stream",
     "text": [
      "Parse progress: |████████████████████████████████████████████████████████████████| (done) 100%\n",
      "Parse progress: |████████████████████████████████████████████████████████████████| (done) 100%\n",
      "stackedensemble prediction progress: |███████████████████████████████████████████| (done) 100%\n",
      "Test RMSE: 80725.09848945898\n"
     ]
    }
   ],
   "source": [
    "h2o_test= h2o.import_file('test.csv')\n",
    "hdf_test=h2o.H2OFrame(df_test)\n",
    "predictions = aml.leader.predict(test)\n",
    "\n",
    "rmse = aml.leader.model_performance(test).rmse()\n",
    "print(\"Test RMSE:\", rmse)"
   ]
  },
  {
   "cell_type": "code",
   "execution_count": 23,
   "metadata": {},
   "outputs": [
    {
     "name": "stdout",
     "output_type": "stream",
     "text": [
      "stackedensemble prediction progress: |███████████████████████████████████████████| (done) 100%\n"
     ]
    },
    {
     "name": "stderr",
     "output_type": "stream",
     "text": [
      "C:\\Users\\sisqo32\\anaconda3\\lib\\site-packages\\h2o\\frame.py:1981: H2ODependencyWarning: Converting H2O frame to pandas dataframe using single-thread.  For faster conversion using multi-thread, install polars and pyarrow and use it as pandas_df = h2o_df.as_data_frame(use_multi_thread=True)\n",
      "\n",
      "  warnings.warn(\"Converting H2O frame to pandas dataframe using single-thread.  For faster conversion using\"\n"
     ]
    }
   ],
   "source": [
    "# Convertir les prédictions en DataFrame H2O\n",
    "predictions = aml.leader.predict(h2o_test).as_data_frame()\n",
    "\n",
    "# Créer le fichier de soumission\n",
    "submissionH2O = pd.DataFrame({\n",
    "    'id': df_test['id'],  # Utiliser l'ID des données de test\n",
    "    'target': predictions['predict']  # Utiliser la colonne des prédictions\n",
    "})\n",
    "\n",
    "# Sauvegarder le fichier au format CSV\n",
    "submissionH2O.to_csv('submissionH2O.csv', index=False)"
   ]
  },
  {
   "cell_type": "code",
   "execution_count": 20,
   "metadata": {},
   "outputs": [],
   "source": [
    "submissionH2O.to_csv('submissionH2O.csv')"
   ]
  },
  {
   "cell_type": "code",
   "execution_count": null,
   "metadata": {},
   "outputs": [],
   "source": []
  }
 ],
 "metadata": {
  "kaggle": {
   "accelerator": "none",
   "dataSources": [
    {
     "databundleVersionId": 9057646,
     "sourceId": 76728,
     "sourceType": "competition"
    }
   ],
   "dockerImageVersionId": 30761,
   "isGpuEnabled": false,
   "isInternetEnabled": true,
   "language": "python",
   "sourceType": "notebook"
  },
  "kernelspec": {
   "display_name": "Python 3 (ipykernel)",
   "language": "python",
   "name": "python3"
  },
  "language_info": {
   "codemirror_mode": {
    "name": "ipython",
    "version": 3
   },
   "file_extension": ".py",
   "mimetype": "text/x-python",
   "name": "python",
   "nbconvert_exporter": "python",
   "pygments_lexer": "ipython3",
   "version": "3.10.11"
  },
  "widgets": {
   "application/vnd.jupyter.widget-state+json": {
    "state": {
     "10d8e68a92c54841816ffeef6e19451e": {
      "model_module": "@jupyter-widgets/controls",
      "model_module_version": "2.0.0",
      "model_name": "HTMLModel",
      "state": {
       "layout": "IPY_MODEL_4e2115f6f991442c910324f37a509291",
       "style": "IPY_MODEL_c29c32a4ee184a4c822965123529a227",
       "value": "Done! Use &#x27;show&#x27; commands to display/save.   "
      }
     },
     "2d0e7a32bea240519e7613fb79b822e3": {
      "model_module": "@jupyter-widgets/controls",
      "model_module_version": "2.0.0",
      "model_name": "FloatProgressModel",
      "state": {
       "bar_style": "success",
       "layout": "IPY_MODEL_806399a4b07c4d809e7fc2b51e9eb979",
       "max": 1,
       "style": "IPY_MODEL_8d86a9b0f0174482b992d68f92f2660e",
       "value": 1
      }
     },
     "3786be4c29704209900ceb160f2dff6a": {
      "model_module": "@jupyter-widgets/controls",
      "model_module_version": "2.0.0",
      "model_name": "HTMLStyleModel",
      "state": {
       "description_width": "",
       "font_size": null,
       "text_color": null
      }
     },
     "4e2115f6f991442c910324f37a509291": {
      "model_module": "@jupyter-widgets/base",
      "model_module_version": "2.0.0",
      "model_name": "LayoutModel",
      "state": {}
     },
     "4e478b5dacec434e9f2499abb28602a4": {
      "model_module": "@jupyter-widgets/base",
      "model_module_version": "2.0.0",
      "model_name": "LayoutModel",
      "state": {}
     },
     "5437f606312f4547813b18a4c565ce98": {
      "model_module": "@jupyter-widgets/controls",
      "model_module_version": "2.0.0",
      "model_name": "HTMLModel",
      "state": {
       "layout": "IPY_MODEL_4e478b5dacec434e9f2499abb28602a4",
       "style": "IPY_MODEL_3786be4c29704209900ceb160f2dff6a",
       "value": " [100%]   00:00 -&gt; (00:00 left)"
      }
     },
     "58dbad03dab24f0f9b0a53d946718349": {
      "model_module": "@jupyter-widgets/controls",
      "model_module_version": "2.0.0",
      "model_name": "HBoxModel",
      "state": {
       "children": [
        "IPY_MODEL_10d8e68a92c54841816ffeef6e19451e",
        "IPY_MODEL_2d0e7a32bea240519e7613fb79b822e3",
        "IPY_MODEL_5437f606312f4547813b18a4c565ce98"
       ],
       "layout": "IPY_MODEL_d0ba50b931944229ba030b73a5e43283"
      }
     },
     "806399a4b07c4d809e7fc2b51e9eb979": {
      "model_module": "@jupyter-widgets/base",
      "model_module_version": "2.0.0",
      "model_name": "LayoutModel",
      "state": {
       "flex": "2"
      }
     },
     "8d86a9b0f0174482b992d68f92f2660e": {
      "model_module": "@jupyter-widgets/controls",
      "model_module_version": "2.0.0",
      "model_name": "ProgressStyleModel",
      "state": {
       "description_width": ""
      }
     },
     "c29c32a4ee184a4c822965123529a227": {
      "model_module": "@jupyter-widgets/controls",
      "model_module_version": "2.0.0",
      "model_name": "HTMLStyleModel",
      "state": {
       "description_width": "",
       "font_size": null,
       "text_color": null
      }
     },
     "d0ba50b931944229ba030b73a5e43283": {
      "model_module": "@jupyter-widgets/base",
      "model_module_version": "2.0.0",
      "model_name": "LayoutModel",
      "state": {
       "display": "inline-flex",
       "flex_flow": "row wrap",
       "width": "100%"
      }
     }
    },
    "version_major": 2,
    "version_minor": 0
   }
  }
 },
 "nbformat": 4,
 "nbformat_minor": 4
}
